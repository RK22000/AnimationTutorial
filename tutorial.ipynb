{
 "cells": [
  {
   "cell_type": "markdown",
   "metadata": {},
   "source": [
    "# In this tutorial\n",
    "\n",
    "We will look at \n",
    "\n",
    "- Creating plots and figures in matplotlib\n",
    "- Creating / manipulating Scatter points\n",
    "- Creating / manipulating Lines\n",
    "- Animating a figure "
   ]
  },
  {
   "cell_type": "code",
   "execution_count": 1,
   "metadata": {},
   "outputs": [],
   "source": [
    "import matplotlib.pyplot as plt\n",
    "import numpy as np # we'll use numpy to generate random points"
   ]
  },
  {
   "cell_type": "markdown",
   "metadata": {},
   "source": [
    "## Recap matplotlib"
   ]
  },
  {
   "cell_type": "code",
   "execution_count": 2,
   "metadata": {},
   "outputs": [
    {
     "name": "stdout",
     "output_type": "stream",
     "text": [
      "[[81 53]\n",
      " [87 37]\n",
      " [15 51]\n",
      " [98 79]\n",
      " [36 31]]\n"
     ]
    }
   ],
   "source": [
    "points = np.random.randint(0, 100, (5, 2))\n",
    "print(points)"
   ]
  },
  {
   "cell_type": "code",
   "execution_count": 3,
   "metadata": {},
   "outputs": [
    {
     "name": "stdout",
     "output_type": "stream",
     "text": [
      "\u001b[1;31mSignature:\u001b[0m\n",
      "\u001b[0mplt\u001b[0m\u001b[1;33m.\u001b[0m\u001b[0mscatter\u001b[0m\u001b[1;33m(\u001b[0m\u001b[1;33m\n",
      "\u001b[0m    \u001b[0mx\u001b[0m\u001b[1;33m:\u001b[0m \u001b[1;34m'float | ArrayLike'\u001b[0m\u001b[1;33m,\u001b[0m\u001b[1;33m\n",
      "\u001b[0m    \u001b[0my\u001b[0m\u001b[1;33m:\u001b[0m \u001b[1;34m'float | ArrayLike'\u001b[0m\u001b[1;33m,\u001b[0m\u001b[1;33m\n",
      "\u001b[0m    \u001b[0ms\u001b[0m\u001b[1;33m:\u001b[0m \u001b[1;34m'float | ArrayLike | None'\u001b[0m \u001b[1;33m=\u001b[0m \u001b[1;32mNone\u001b[0m\u001b[1;33m,\u001b[0m\u001b[1;33m\n",
      "\u001b[0m    \u001b[0mc\u001b[0m\u001b[1;33m:\u001b[0m \u001b[1;34m'ArrayLike | Sequence[ColorType] | ColorType | None'\u001b[0m \u001b[1;33m=\u001b[0m \u001b[1;32mNone\u001b[0m\u001b[1;33m,\u001b[0m\u001b[1;33m\n",
      "\u001b[0m    \u001b[0mmarker\u001b[0m\u001b[1;33m:\u001b[0m \u001b[1;34m'MarkerType | None'\u001b[0m \u001b[1;33m=\u001b[0m \u001b[1;32mNone\u001b[0m\u001b[1;33m,\u001b[0m\u001b[1;33m\n",
      "\u001b[0m    \u001b[0mcmap\u001b[0m\u001b[1;33m:\u001b[0m \u001b[1;34m'str | Colormap | None'\u001b[0m \u001b[1;33m=\u001b[0m \u001b[1;32mNone\u001b[0m\u001b[1;33m,\u001b[0m\u001b[1;33m\n",
      "\u001b[0m    \u001b[0mnorm\u001b[0m\u001b[1;33m:\u001b[0m \u001b[1;34m'str | Normalize | None'\u001b[0m \u001b[1;33m=\u001b[0m \u001b[1;32mNone\u001b[0m\u001b[1;33m,\u001b[0m\u001b[1;33m\n",
      "\u001b[0m    \u001b[0mvmin\u001b[0m\u001b[1;33m:\u001b[0m \u001b[1;34m'float | None'\u001b[0m \u001b[1;33m=\u001b[0m \u001b[1;32mNone\u001b[0m\u001b[1;33m,\u001b[0m\u001b[1;33m\n",
      "\u001b[0m    \u001b[0mvmax\u001b[0m\u001b[1;33m:\u001b[0m \u001b[1;34m'float | None'\u001b[0m \u001b[1;33m=\u001b[0m \u001b[1;32mNone\u001b[0m\u001b[1;33m,\u001b[0m\u001b[1;33m\n",
      "\u001b[0m    \u001b[0malpha\u001b[0m\u001b[1;33m:\u001b[0m \u001b[1;34m'float | None'\u001b[0m \u001b[1;33m=\u001b[0m \u001b[1;32mNone\u001b[0m\u001b[1;33m,\u001b[0m\u001b[1;33m\n",
      "\u001b[0m    \u001b[0mlinewidths\u001b[0m\u001b[1;33m:\u001b[0m \u001b[1;34m'float | Sequence[float] | None'\u001b[0m \u001b[1;33m=\u001b[0m \u001b[1;32mNone\u001b[0m\u001b[1;33m,\u001b[0m\u001b[1;33m\n",
      "\u001b[0m    \u001b[1;33m*\u001b[0m\u001b[1;33m,\u001b[0m\u001b[1;33m\n",
      "\u001b[0m    \u001b[0medgecolors\u001b[0m\u001b[1;33m:\u001b[0m \u001b[1;34m\"Literal['face', 'none'] | ColorType | Sequence[ColorType] | None\"\u001b[0m \u001b[1;33m=\u001b[0m \u001b[1;32mNone\u001b[0m\u001b[1;33m,\u001b[0m\u001b[1;33m\n",
      "\u001b[0m    \u001b[0mplotnonfinite\u001b[0m\u001b[1;33m:\u001b[0m \u001b[1;34m'bool'\u001b[0m \u001b[1;33m=\u001b[0m \u001b[1;32mFalse\u001b[0m\u001b[1;33m,\u001b[0m\u001b[1;33m\n",
      "\u001b[0m    \u001b[0mdata\u001b[0m\u001b[1;33m=\u001b[0m\u001b[1;32mNone\u001b[0m\u001b[1;33m,\u001b[0m\u001b[1;33m\n",
      "\u001b[0m    \u001b[1;33m**\u001b[0m\u001b[0mkwargs\u001b[0m\u001b[1;33m,\u001b[0m\u001b[1;33m\n",
      "\u001b[0m\u001b[1;33m)\u001b[0m \u001b[1;33m->\u001b[0m \u001b[1;34m'PathCollection'\u001b[0m\u001b[1;33m\u001b[0m\u001b[1;33m\u001b[0m\u001b[0m\n",
      "\u001b[1;31mDocstring:\u001b[0m\n",
      "A scatter plot of *y* vs. *x* with varying marker size and/or color.\n",
      "\n",
      "Parameters\n",
      "----------\n",
      "x, y : float or array-like, shape (n, )\n",
      "    The data positions.\n",
      "\n",
      "s : float or array-like, shape (n, ), optional\n",
      "    The marker size in points**2 (typographic points are 1/72 in.).\n",
      "    Default is ``rcParams['lines.markersize'] ** 2``.\n",
      "\n",
      "    The linewidth and edgecolor can visually interact with the marker\n",
      "    size, and can lead to artifacts if the marker size is smaller than\n",
      "    the linewidth.\n",
      "\n",
      "    If the linewidth is greater than 0 and the edgecolor is anything\n",
      "    but *'none'*, then the effective size of the marker will be\n",
      "    increased by half the linewidth because the stroke will be centered\n",
      "    on the edge of the shape.\n",
      "\n",
      "    To eliminate the marker edge either set *linewidth=0* or\n",
      "    *edgecolor='none'*.\n",
      "\n",
      "c : array-like or list of colors or color, optional\n",
      "    The marker colors. Possible values:\n",
      "\n",
      "    - A scalar or sequence of n numbers to be mapped to colors using\n",
      "      *cmap* and *norm*.\n",
      "    - A 2D array in which the rows are RGB or RGBA.\n",
      "    - A sequence of colors of length n.\n",
      "    - A single color format string.\n",
      "\n",
      "    Note that *c* should not be a single numeric RGB or RGBA sequence\n",
      "    because that is indistinguishable from an array of values to be\n",
      "    colormapped. If you want to specify the same RGB or RGBA value for\n",
      "    all points, use a 2D array with a single row.  Otherwise,\n",
      "    value-matching will have precedence in case of a size matching with\n",
      "    *x* and *y*.\n",
      "\n",
      "    If you wish to specify a single color for all points\n",
      "    prefer the *color* keyword argument.\n",
      "\n",
      "    Defaults to `None`. In that case the marker color is determined\n",
      "    by the value of *color*, *facecolor* or *facecolors*. In case\n",
      "    those are not specified or `None`, the marker color is determined\n",
      "    by the next color of the ``Axes``' current \"shape and fill\" color\n",
      "    cycle. This cycle defaults to :rc:`axes.prop_cycle`.\n",
      "\n",
      "marker : `~.markers.MarkerStyle`, default: :rc:`scatter.marker`\n",
      "    The marker style. *marker* can be either an instance of the class\n",
      "    or the text shorthand for a particular marker.\n",
      "    See :mod:`matplotlib.markers` for more information about marker\n",
      "    styles.\n",
      "\n",
      "cmap : str or `~matplotlib.colors.Colormap`, default: :rc:`image.cmap`\n",
      "    The Colormap instance or registered colormap name used to map scalar data\n",
      "    to colors.\n",
      "\n",
      "    This parameter is ignored if *c* is RGB(A).\n",
      "\n",
      "norm : str or `~matplotlib.colors.Normalize`, optional\n",
      "    The normalization method used to scale scalar data to the [0, 1] range\n",
      "    before mapping to colors using *cmap*. By default, a linear scaling is\n",
      "    used, mapping the lowest value to 0 and the highest to 1.\n",
      "\n",
      "    If given, this can be one of the following:\n",
      "\n",
      "    - An instance of `.Normalize` or one of its subclasses\n",
      "      (see :ref:`colormapnorms`).\n",
      "    - A scale name, i.e. one of \"linear\", \"log\", \"symlog\", \"logit\", etc.  For a\n",
      "      list of available scales, call `matplotlib.scale.get_scale_names()`.\n",
      "      In that case, a suitable `.Normalize` subclass is dynamically generated\n",
      "      and instantiated.\n",
      "\n",
      "    This parameter is ignored if *c* is RGB(A).\n",
      "\n",
      "vmin, vmax : float, optional\n",
      "    When using scalar data and no explicit *norm*, *vmin* and *vmax* define\n",
      "    the data range that the colormap covers. By default, the colormap covers\n",
      "    the complete value range of the supplied data. It is an error to use\n",
      "    *vmin*/*vmax* when a *norm* instance is given (but using a `str` *norm*\n",
      "    name together with *vmin*/*vmax* is acceptable).\n",
      "\n",
      "    This parameter is ignored if *c* is RGB(A).\n",
      "\n",
      "alpha : float, default: None\n",
      "    The alpha blending value, between 0 (transparent) and 1 (opaque).\n",
      "\n",
      "linewidths : float or array-like, default: :rc:`lines.linewidth`\n",
      "    The linewidth of the marker edges. Note: The default *edgecolors*\n",
      "    is 'face'. You may want to change this as well.\n",
      "\n",
      "edgecolors : {'face', 'none', *None*} or color or sequence of color, default: :rc:`scatter.edgecolors`\n",
      "    The edge color of the marker. Possible values:\n",
      "\n",
      "    - 'face': The edge color will always be the same as the face color.\n",
      "    - 'none': No patch boundary will be drawn.\n",
      "    - A color or sequence of colors.\n",
      "\n",
      "    For non-filled markers, *edgecolors* is ignored. Instead, the color\n",
      "    is determined like with 'face', i.e. from *c*, *colors*, or\n",
      "    *facecolors*.\n",
      "\n",
      "plotnonfinite : bool, default: False\n",
      "    Whether to plot points with nonfinite *c* (i.e. ``inf``, ``-inf``\n",
      "    or ``nan``). If ``True`` the points are drawn with the *bad*\n",
      "    colormap color (see `.Colormap.set_bad`).\n",
      "\n",
      "Returns\n",
      "-------\n",
      "`~matplotlib.collections.PathCollection`\n",
      "\n",
      "Other Parameters\n",
      "----------------\n",
      "data : indexable object, optional\n",
      "    If given, the following parameters also accept a string ``s``, which is\n",
      "    interpreted as ``data[s]`` (unless this raises an exception):\n",
      "\n",
      "    *x*, *y*, *s*, *linewidths*, *edgecolors*, *c*, *facecolor*, *facecolors*, *color*\n",
      "**kwargs : `~matplotlib.collections.Collection` properties\n",
      "\n",
      "See Also\n",
      "--------\n",
      "plot : To plot scatter plots when markers are identical in size and\n",
      "    color.\n",
      "\n",
      "Notes\n",
      "-----\n",
      "* The `.plot` function will be faster for scatterplots where markers\n",
      "  don't vary in size or color.\n",
      "\n",
      "* Any or all of *x*, *y*, *s*, and *c* may be masked arrays, in which\n",
      "  case all masks will be combined and only unmasked points will be\n",
      "  plotted.\n",
      "\n",
      "* Fundamentally, scatter works with 1D arrays; *x*, *y*, *s*, and *c*\n",
      "  may be input as N-D arrays, but within scatter they will be\n",
      "  flattened. The exception is *c*, which will be flattened only if its\n",
      "  size matches the size of *x* and *y*.\n",
      "\u001b[1;31mFile:\u001b[0m      d:\\projects\\animationtutorial\\env\\lib\\site-packages\\matplotlib\\pyplot.py\n",
      "\u001b[1;31mType:\u001b[0m      function"
     ]
    }
   ],
   "source": [
    "# We'll use the scatter method to plot our points\n",
    "plt.scatter?"
   ]
  },
  {
   "cell_type": "code",
   "execution_count": 4,
   "metadata": {},
   "outputs": [
    {
     "name": "stdout",
     "output_type": "stream",
     "text": [
      "x coords: [81 87 15 98 36]\n",
      "y coords: [53 37 51 79 31]\n"
     ]
    },
    {
     "data": {
      "image/png": "[encoded data removed]",
      "text/plain": [
       "<Figure size 640x480 with 1 Axes>"
      ]
     },
     "metadata": {},
     "output_type": "display_data"
    }
   ],
   "source": [
    "# We can use numpy indexing to specifically get only the x or y coordinates of our points\n",
    "print(f\"x coords: {points[:,0]}\")\n",
    "print(f\"y coords: {points[:,1]}\")\n",
    "colors = ['r', 'b', 'g', 'y', 'm', 'c', 'k'] # Reference for more colors https://matplotlib.org/stable/gallery/color/named_colors.html\n",
    "plt.scatter(points[:, 0], points[:, 1], c=colors[:len(points)])\n",
    "plt.show()"
   ]
  },
  {
   "cell_type": "code",
   "execution_count": 5,
   "metadata": {},
   "outputs": [
    {
     "data": {
      "image/png": "[encoded data removed]",
      "text/plain": [
       "<Figure size 640x480 with 1 Axes>"
      ]
     },
     "metadata": {},
     "output_type": "display_data"
    }
   ],
   "source": [
    "# plt.scatter is a method specifically for creating points\n",
    "# plt.plot is a more general purpose function\n",
    "ln = np.array([[20,30],[30,20]])\n",
    "plt.plot(*ln)\n",
    "ln+=10\n",
    "plt.plot(*ln, '.')\n",
    "ln+=10\n",
    "plt.plot(*ln, '*')\n",
    "ln+=10\n",
    "plt.plot(*ln, '-.')\n",
    "plt.show()"
   ]
  },
  {
   "cell_type": "markdown",
   "metadata": {},
   "source": [
    "## Animating the plots and figure\n",
    "\n",
    "Lets make an animation of bouncing balls"
   ]
  },
  {
   "cell_type": "code",
   "execution_count": 390,
   "metadata": {},
   "outputs": [],
   "source": [
    "# We use this widget to make animation stuff work in the notebook. Not needed in .py script\n",
    "%matplotlib widget \n",
    "\n",
    "points = np.random.randint(0,100,(5,2)).astype(float)\n",
    "v = np.zeros((5,2))\n",
    "g = [0,-1]\n",
    "plt.plot([0,100,100,0], [0,0,100,100])\n",
    "def plot():\n",
    "    global points, v\n",
    "    points += v\n",
    "    v += g\n",
    "    v[:,1][points[:,1]<0] *= -1\n",
    "    v*=0.99\n",
    "    plt.scatter(points[:,0],points[:,1])\n",
    "# plot()"
   ]
  },
  {
   "cell_type": "code",
   "execution_count": 516,
   "metadata": {},
   "outputs": [],
   "source": [
    "# Keep running this cell again and agin\n",
    "# and observe the output in the next cell\n",
    "plt.clf()\n",
    "plt.plot([0,100,100,0], [0,0,100,100])\n",
    "plot()"
   ]
  },
  {
   "cell_type": "code",
   "execution_count": 520,
   "metadata": {},
   "outputs": [
    {
     "data": {
      "application/vnd.jupyter.widget-view+json": {
       "model_id": "7576233cd0fe475f9a588aec39a02054",
       "version_major": 2,
       "version_minor": 0
      },
      "image/png": "[encoded data removed]",
      "text/html": [
       "\n",
       "            <div style=\"display: inline-block;\">\n",
       "                <div class=\"jupyter-widgets widget-label\" style=\"text-align: center;\">\n",
       "                    Figure 1\n",
       "                </div>\n",
       "                <img src='data:image/png;base64,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' width=640.0/>\n",
       "            </div>\n",
       "        "
      ],
      "text/plain": [
       "Canvas(toolbar=Toolbar(toolitems=[('Home', 'Reset original view', 'home', 'home'), ('Back', 'Back to previous …"
      ]
     },
     "metadata": {},
     "output_type": "display_data"
    }
   ],
   "source": [
    "plt.show()"
   ]
  },
  {
   "cell_type": "code",
   "execution_count": null,
   "metadata": {},
   "outputs": [],
   "source": [
    "import matplotlib.animation as anim\n",
    "def update(i):\n",
    "    plt.clf()\n",
    "    plt.plot([0,100,100,0], [0,0,100,100])\n",
    "    plot()\n",
    "anime = anim.FuncAnimation(plt.gcf(), update, 100)"
   ]
  },
  {
   "cell_type": "code",
   "execution_count": 521,
   "metadata": {},
   "outputs": [],
   "source": [
    "anime.pause()"
   ]
  }
 ],
 "metadata": {
  "kernelspec": {
   "display_name": "Python 3",
   "language": "python",
   "name": "python3"
  },
  "language_info": {
   "codemirror_mode": {
    "name": "ipython",
    "version": 3
   },
   "file_extension": ".py",
   "mimetype": "text/x-python",
   "name": "python",
   "nbconvert_exporter": "python",
   "pygments_lexer": "ipython3",
   "version": "3.12.2"
  }
 },
 "nbformat": 4,
 "nbformat_minor": 2
}
